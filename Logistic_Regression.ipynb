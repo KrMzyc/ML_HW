{
  "nbformat": 4,
  "nbformat_minor": 0,
  "metadata": {
    "kernelspec": {
      "display_name": "Python 3",
      "language": "python",
      "name": "python3"
    },
    "language_info": {
      "codemirror_mode": {
        "name": "ipython",
        "version": 3
      },
      "file_extension": ".py",
      "mimetype": "text/x-python",
      "name": "python",
      "nbconvert_exporter": "python",
      "pygments_lexer": "ipython3",
      "version": "3.7.6"
    },
    "colab": {
      "name": "Logistic Regression.ipynb",
      "provenance": [],
      "collapsed_sections": []
    },
    "accelerator": "GPU"
  },
  "cells": [
    {
      "cell_type": "markdown",
      "metadata": {
        "id": "Y027UAFkPfyB"
      },
      "source": [
        "# 逻辑回归\n",
        "  \n",
        "回归，是指假设一个模型，设定一些参数，计算合适的参数以拟合逼近现有数据。\n",
        "\n",
        "#### Linear Regression\n",
        "$$h_\\theta(x) = θ^Tx+θ_0$$\n",
        "#### Logistic Regression\n",
        "$$h_\\theta(x) = g(θ^Tx+θ_0) = P(y=1|x,θ)$$\n",
        "![image.png](attachment:image.png)\n",
        "\n",
        "\n",
        "线性回归用一条直线模型去拟合数据，用来确定两种或两种以上变量间相互依赖的定量关系\n",
        "\n",
        "逻辑回归计算样本属于某个标签的概率，构建一个分类边界，用来对数据进行二分类或者多分类。\n",
        "\n",
        "上次实验我们用梯度下降训练了一个线性回归模型，这次我们实现一个逻辑回归模型来进行二分类的收入判断任务。\n",
        "\n",
        "##### 注意事项：\n",
        "本实验可能用到的函数：`np.mean` `np.add` `np.sum` `np.mutual` `np.dot`\n",
        "\n",
        "本实验大部分变量为numpy array的数据类型"
      ]
    },
    {
      "cell_type": "code",
      "metadata": {
        "colab": {
          "base_uri": "https://localhost:8080/"
        },
        "id": "LSrbRVUrPrsD",
        "outputId": "7fd27309-96d0-47ab-8a60-05714b2ed629"
      },
      "source": [
        "from google.colab import drive\n",
        "drive.mount('/content/drive')"
      ],
      "execution_count": null,
      "outputs": [
        {
          "output_type": "stream",
          "name": "stdout",
          "text": [
            "Drive already mounted at /content/drive; to attempt to forcibly remount, call drive.mount(\"/content/drive\", force_remount=True).\n"
          ]
        }
      ]
    },
    {
      "cell_type": "markdown",
      "metadata": {
        "id": "cha0hOljPfyG"
      },
      "source": [
        "### 任务一：读取和预处理数据"
      ]
    },
    {
      "cell_type": "markdown",
      "metadata": {
        "id": "T6F-k-D2PfyI"
      },
      "source": [
        "第一步导入数据。压缩包中的train.csv中存储了原始数据，每人拥有年龄，工作类型等14个维度，共32561个样本。最后一个维度为本次实验的label，即收入是否大于50k。\n",
        "\n",
        "做机器学习应用的时候很多时间是花费在特征处理上，我们注意到原始数据存在许多维度为非数字的数据，是不能直接用于构建模型的。我们可以通过离散化，把一个维度扩展到多个维度。如教育程度：（小学，初中，高中+）可以被扩展到如下三个维度：小学学历（是，否），初中学历（是，否），高中学历以上（是，否）。\n",
        "\n",
        "经上述处理后的数据存储在X_train文件中，每个样本的维度被扩展到了106维，本实验直接使用其中的数据构建模型。"
      ]
    },
    {
      "cell_type": "code",
      "metadata": {
        "colab": {
          "base_uri": "https://localhost:8080/"
        },
        "id": "NxbTf97MPfyJ",
        "outputId": "18c7522a-1906-491a-bfa8-a02277b49c8a"
      },
      "source": [
        "import numpy as np \n",
        "from matplotlib import pyplot as plt\n",
        "\n",
        "def getdata(X_train,Y_train):\n",
        "    X = np.genfromtxt(X_train,delimiter=',',skip_header=1) #32561个样本*106个特征\n",
        "    Y = np.genfromtxt(Y_train,delimiter=',',skip_header=1) #32561个label\n",
        "    return X,Y\n",
        "\n",
        "def shuffle(X,Y):\n",
        "    #打乱X,Y,避免数据存在初始的排序，影响训练效果\n",
        "    randomize = np.arange(len(X)) #不同的库用的不太一样，返回的对象也不太一样。python自带的range()不支持numpy的shuffle\n",
        "    np.random.shuffle(randomize)\n",
        "    return (X[randomize], Y[randomize]) #ndarray的参数是数组时，返回一个依参数排序后的数组    \n",
        "\n",
        "def train_test_split(X, Y, test_size=0.1155):\n",
        "    #按一个比例分出一部分验证集\n",
        "    train_len = int(round(len(X)*(1-test_size)))\n",
        "    return X[0:train_len], Y[0:train_len], X[train_len:None], Y[train_len:None]\n",
        "\n",
        "X,Y = getdata('/content/drive/MyDrive/ML_HW/ML_HW2/X_train','/content/drive/MyDrive/ML_HW/ML_HW2/Y_train')\n",
        "X, Y, X_test, Y_test = train_test_split(X, Y)\n",
        "\n",
        "X.shape #out: (28800, 106)"
      ],
      "execution_count": null,
      "outputs": [
        {
          "output_type": "execute_result",
          "data": {
            "text/plain": [
              "(28800, 106)"
            ]
          },
          "metadata": {},
          "execution_count": 106
        }
      ]
    },
    {
      "cell_type": "markdown",
      "metadata": {
        "id": "fxXvY9a3PfyL"
      },
      "source": [
        "### 任务二：数据归一化"
      ]
    },
    {
      "cell_type": "markdown",
      "metadata": {
        "id": "R8g9mhG4PfyM"
      },
      "source": [
        "归一化把每个特征的数据映射到0到1之间，消除指标之间的量纲影响，同时可以避免某些特征对模型预测结果的影响过大。\n",
        "\n",
        "常用的归一化方法有两种：\n",
        "一是利用最大最小值(min-max 归一化)；\n",
        "\n",
        "二是利用平均值方差(z-score 0均值标准化)。\n",
        "\n",
        "一般来说0均值标准化调整了数据的分布，使之更易于训练。"
      ]
    },
    {
      "cell_type": "code",
      "metadata": {
        "scrolled": true,
        "id": "83f1qCZoPfyN",
        "colab": {
          "base_uri": "https://localhost:8080/"
        },
        "outputId": "6a52cc3a-5fcb-4cdc-aeaa-e98a3cfb42d3"
      },
      "source": [
        "def normalization(X):\n",
        "  \n",
        "    \"\"\"将X中的数据映射到0-1之间\n",
        "    参数：\n",
        "        X:数据\n",
        "    返回：\n",
        "        归一化之后的X\n",
        "    注意：\n",
        "        测试在只归一化0,1,3,4,5,7,10,12,25,26,27,28列特征时，效果会比较好\n",
        "        具体原因可探讨\n",
        "    \"\"\"    \n",
        "    ### START THE CODE ###\n",
        "    index=[0,1,3,4,5,7,10,12,25,26,27,28]\n",
        "    mu = np.mean(X,axis=0)\n",
        "    sigma = np.std(X,axis=0)\n",
        "    X[:,index] = (X[:,index]-mu[index])/sigma[index]\n",
        "    \n",
        "    ### END THE CODE ###\n",
        "    \n",
        "    return X\n",
        "    \n",
        "X = normalization(X)\n",
        "X_test = normalization(X_test)\n",
        "X[:1]"
      ],
      "execution_count": null,
      "outputs": [
        {
          "output_type": "execute_result",
          "data": {
            "text/plain": [
              "array([[ 0.02890209, -1.06650057,  1.        ,  0.14210542, -0.21597229,\n",
              "        -0.03377446,  0.        , -0.26245687,  0.        ,  0.        ,\n",
              "        -0.18897204,  0.        ,  4.90786186,  0.        ,  0.        ,\n",
              "         0.        ,  0.        ,  0.        ,  0.        ,  0.        ,\n",
              "         0.        ,  0.        ,  0.        ,  0.        ,  1.        ,\n",
              "        -0.11423684, -0.69141886, -0.23563746, -0.03999722,  0.        ,\n",
              "         0.        ,  0.        ,  0.        ,  0.        ,  0.        ,\n",
              "         1.        ,  0.        ,  0.        ,  1.        ,  0.        ,\n",
              "         0.        ,  0.        ,  0.        ,  0.        ,  0.        ,\n",
              "         0.        ,  0.        ,  0.        ,  0.        ,  0.        ,\n",
              "         0.        ,  0.        ,  0.        ,  0.        ,  1.        ,\n",
              "         0.        ,  0.        ,  0.        ,  0.        ,  0.        ,\n",
              "         0.        ,  0.        ,  0.        ,  1.        ,  0.        ,\n",
              "         0.        ,  0.        ,  0.        ,  0.        ,  0.        ,\n",
              "         0.        ,  0.        ,  0.        ,  0.        ,  0.        ,\n",
              "         0.        ,  0.        ,  0.        ,  0.        ,  0.        ,\n",
              "         0.        ,  0.        ,  0.        ,  0.        ,  0.        ,\n",
              "         0.        ,  0.        ,  0.        ,  0.        ,  0.        ,\n",
              "         0.        ,  0.        ,  0.        ,  0.        ,  0.        ,\n",
              "         0.        ,  0.        ,  0.        ,  0.        ,  0.        ,\n",
              "         0.        ,  0.        ,  1.        ,  0.        ,  0.        ,\n",
              "         0.        ]])"
            ]
          },
          "metadata": {},
          "execution_count": 107
        }
      ]
    },
    {
      "cell_type": "markdown",
      "metadata": {
        "id": "VT8NV57SPfyO"
      },
      "source": [
        "### 任务三：完成sigmoid函数\n",
        "\n",
        "sigmoid funtion函数原指曲线是 “S”形的函数，logistic function则指满足某个公式形式的一系列函数。\n",
        "在机器学习中，其一般特指以下函数（standard logistic function）：\n",
        "$$f(x) = \\frac{1}{1+e^{-z}}$$"
      ]
    },
    {
      "cell_type": "code",
      "metadata": {
        "scrolled": true,
        "id": "jCW3wOAZPfyP",
        "colab": {
          "base_uri": "https://localhost:8080/"
        },
        "outputId": "65af1aaf-d602-4d4a-b19e-f1eb92afc8a6"
      },
      "source": [
        "def sigmoid(z):\n",
        "    \"\"\"\n",
        "    参数：\n",
        "        z\n",
        "    返回：\n",
        "        sigmoid(z)\n",
        "    \"\"\"   \n",
        "    ### START THE CODE ###\n",
        "    \n",
        "    s=1.0/(1+np.exp(-z))\n",
        "    \n",
        "    ### END THE CODE ###\n",
        "    \n",
        "    return np.clip(s, 1e-6, 1-1e-6)\n",
        "    #clip:重要的处理，将超出范围的值强制置为边界值，避免y_pred为0，从而导致下面交叉熵损失无法计算\n",
        "    #aeN: a*10的N次方\n",
        "    \n",
        "sigmoid(0.3) #out:0.574442516811659"
      ],
      "execution_count": null,
      "outputs": [
        {
          "output_type": "execute_result",
          "data": {
            "text/plain": [
              "0.574442516811659"
            ]
          },
          "metadata": {},
          "execution_count": 108
        }
      ]
    },
    {
      "cell_type": "markdown",
      "metadata": {
        "id": "qa-H7BKLPfyQ"
      },
      "source": [
        "### 任务四：完成交叉熵损失函数\n",
        "$$J(\\theta)=-\\frac{1}{m}\\sum_1^m[y^ilog(h_\\theta(x^i))+(1-y^i)log(1-h_\\theta(x^i))]$$\n",
        "损失函数用于评价模型预测同实际情况的差异，越小说明预测越准确。\n",
        "\n",
        "概念上, 损失函数针对单个样本，代价函数针对总体。但作为优化目标时二者无不同。\n",
        "\n",
        "交叉熵数学意义上衡量的是两个概率分布间的差异，本实验以交叉熵损失为优化目标函数。"
      ]
    },
    {
      "cell_type": "code",
      "metadata": {
        "id": "Hg7I0jNEPfyS",
        "colab": {
          "base_uri": "https://localhost:8080/"
        },
        "outputId": "1d57e96e-997a-43f5-f32d-130da7a50c4d"
      },
      "source": [
        "def cost(y_pred, y_label, m):\n",
        "    \"\"\"代价函数，这里计算的是所有样本损失函数的和\n",
        "    参数：\n",
        "        y_pred：模型预测的值\n",
        "        y_label：数据实际的标签\n",
        "        m：数据的样本数\n",
        "    返回：\n",
        "        cst: 预测值同标签值之间的代价\n",
        "    \"\"\"   \n",
        "    ### START THE CODE ###\n",
        "    \n",
        "    \n",
        "    cst = -np.mean(y_label*np.log(y_pred)+(1-y_label)*np.log(1-y_pred))\n",
        "    \n",
        "    \n",
        "    ### END THE CODE ###\n",
        "    \n",
        "    return cst\n",
        "\n",
        "cost(0.5,0.5,1) #out:0.6931471805599453   numpy的log以e为底"
      ],
      "execution_count": null,
      "outputs": [
        {
          "output_type": "execute_result",
          "data": {
            "text/plain": [
              "0.6931471805599453"
            ]
          },
          "metadata": {},
          "execution_count": 109
        }
      ]
    },
    {
      "cell_type": "markdown",
      "metadata": {
        "id": "Sy7Y8q2BPfyS"
      },
      "source": [
        "### 任务五：构建逻辑回归模型"
      ]
    },
    {
      "cell_type": "markdown",
      "metadata": {
        "id": "USTV-AB7PfyT"
      },
      "source": [
        "$$\\hat y=sig(θ_1*x_1+θ_2*x_2+...+θ_n*x_n+θ_0)$$\n",
        "\n",
        "接下来先设置模型所需要的参数，可以自己修改观察对模型的影响。\n",
        "\n",
        "对于样本的偏置θ0，有两种处理方法：\n",
        "一种是作为一个维度添加到array θ上，相应样本也要添加一个值全为1的维度；\n",
        "\n",
        "一种是单独拿出来更新，在梯度下降时分别处理。\n",
        "\n",
        "本实验采取的是第二种方法。\n",
        "\n",
        "最后完成模型所需的两个基本函数predict，和accuracy。"
      ]
    },
    {
      "cell_type": "code",
      "metadata": {
        "id": "vRT_8XQnPfyT",
        "colab": {
          "base_uri": "https://localhost:8080/"
        },
        "outputId": "efed53e7-fc03-47e4-ef9b-3c7dbff6b2a4"
      },
      "source": [
        "#模型的基本参数：\n",
        "theta = np.zeros(X.shape[1],) #106个权重参数，初值全为0\n",
        "theta_0 = np.zeros(1,) #1个偏置参数，初值为0\n",
        "\n",
        "#训练参数\n",
        "max_iter = 40 #迭代次数\n",
        "batch_size = 32 #随机梯度下降中每次取样个数\n",
        "learning_rate = 0.02 #学习率，可以尝试不同的学习率，如0.2、0.002、0.0002\n",
        "num_train = len(Y)\n",
        "num_test = len(Y_test)\n",
        "\n",
        "#用于记录训练中损失和准确率的变化\n",
        "train_cost = []\n",
        "test_cost = []\n",
        "train_acc = []\n",
        "test_acc = []\n",
        "\n",
        "def predict(X, theta, theta_0):\n",
        "    \"\"\"预测\n",
        "    参数：\n",
        "        X：样本特征\n",
        "        theta：权重参数 \n",
        "        theta_0: 偏置参数\n",
        "    返回：\n",
        "        Y_pred: 样本的预测值 0~1\n",
        "    \"\"\"      \n",
        "    ### START THE CODE ###\n",
        "    Y_pred = sigmoid(np.dot(X,theta)+theta_0)\n",
        "    ### END THE CODE ###\n",
        "    \n",
        "    return Y_pred\n",
        "\n",
        "def accuracy(Y_hat, Y_label):\n",
        "    \"\"\"准确率\n",
        "    参数：\n",
        "        Y_hat：样本最终分类 0 or 1\n",
        "        Y_label：样本标签\n",
        "    返回：\n",
        "        acc: 分类准确率\n",
        "    \"\"\"      \n",
        "    ### START THE CODE ###\n",
        "    y_re = list(Y_hat - Y_label)\n",
        "    acc = y_re.count(0)/len(Y_label)\n",
        "    ### END THE CODE ###\n",
        "    \n",
        "    return acc\n",
        "\n",
        "predict([0.5,1],[0,0.2],[0.1]) #out: array([0.57444252])"
      ],
      "execution_count": null,
      "outputs": [
        {
          "output_type": "execute_result",
          "data": {
            "text/plain": [
              "array([0.57444252])"
            ]
          },
          "metadata": {},
          "execution_count": 110
        }
      ]
    },
    {
      "cell_type": "markdown",
      "metadata": {
        "id": "TGQzW25fPfyU"
      },
      "source": [
        "### 任务六：用随机梯度下降算法训练模型"
      ]
    },
    {
      "cell_type": "markdown",
      "metadata": {
        "id": "v-_Sqs-4PfyV"
      },
      "source": [
        "全样本的梯度下降，在样本过大时，更新一次参数会需要巨大计算量。我们可以每次从中随机取出一定大小的样本，进行小批量随机梯度下降。\n",
        "随机取样部分已完成，只需根据样本梯度下降更新参数即可。\n",
        "\n",
        "根据我们的优化目标（默认为交叉熵），对损失函数求导，得到梯度计算公式为：\n",
        "$$(h_\\theta(x^i)-y)x^i$$(推导见ppt)\n",
        "\n",
        "θ，θ0更新时分别处理"
      ]
    },
    {
      "cell_type": "code",
      "metadata": {
        "id": "cwICj0FpPfyV",
        "colab": {
          "base_uri": "https://localhost:8080/"
        },
        "outputId": "49c0afc2-de44-407d-d234-ccb3bb321906"
      },
      "source": [
        "def gradient_descent(x_bt, y_bt, theta, theta_0, learning_rate):\n",
        "    \"\"\"用每次取出的一个batch的数据训练模型\n",
        "    参数：\n",
        "        x_bt:本次更新所用样本\n",
        "        y_bt:本次更新样本的标签\n",
        "        theta,theta_0：模型参数\n",
        "    过程：\n",
        "        用theta,theta_0进行一次预测\n",
        "        计算预测误差\n",
        "        计算theta, theta_0的梯度，取均值\n",
        "        用梯度更新theta_0和theta\n",
        "    \"\"\" \n",
        "    ### START THE CODE ###\n",
        "    y_pre = predict(x_bt,theta,theta_0)\n",
        "    gra_theta = np.dot(y_pre-y_bt,x_bt)\n",
        "    gra_theta_0 = np.mean(y_pre-y_bt)\n",
        "    theta = theta - learning_rate * gra_theta\n",
        "    theta_0 = theta_0 - learning_rate * gra_theta_0\n",
        "\n",
        "    ### END THE CODE ###\n",
        "    \n",
        "    return theta,theta_0\n",
        "\n",
        "gradient_descent(np.array([[1]]),np.array([1]),np.array([0.1]),np.array([0.1]),0.2)\n",
        "#out: (array([0.1900332]), array([0.1900332]))"
      ],
      "execution_count": null,
      "outputs": [
        {
          "output_type": "execute_result",
          "data": {
            "text/plain": [
              "(array([0.1900332]), array([0.1900332]))"
            ]
          },
          "metadata": {},
          "execution_count": 111
        }
      ]
    },
    {
      "cell_type": "code",
      "metadata": {
        "id": "_gQhZRizPfyV",
        "colab": {
          "base_uri": "https://localhost:8080/"
        },
        "outputId": "7a1ebc47-ade6-4564-bc28-539363f56af6"
      },
      "source": [
        "def train(X, Y, theta, theta_0, max_iter, batch_size, learning_rate):\n",
        "    train_cost = []\n",
        "    test_cost = []\n",
        "    train_acc = []\n",
        "    test_acc = []\n",
        "\n",
        "    for epoch in range(max_iter):\n",
        "        X, Y = shuffle(X, Y) #随机打乱各行数据，这样参数不易陷入局部最优，模型能够更容易达到收敛。 \n",
        "        for i in range(int(np.floor(len(Y)/batch_size))): #每个batch更新一次\n",
        "            x_bt = X[i*batch_size:(i+1)*batch_size] #32个样本*106维\n",
        "            y_bt = Y[i*batch_size:(i+1)*batch_size] #32个label\n",
        "            \n",
        "            #每个batch的样本更新参数theta,theta_0\n",
        "            theta,theta_0 = gradient_descent(x_bt,y_bt,theta,theta_0,learning_rate)\n",
        "        \n",
        "        #记录每个epoch更新后，训练集上损失的变化和准确率的变化\n",
        "        Y_pred = predict(X, theta, theta_0)\n",
        "        Y_hat = np.round(Y_pred)\n",
        "        train_acc.append(accuracy(Y_hat, Y))\n",
        "        train_cost.append(cost(Y_pred, Y, num_train))\n",
        "        #记录每个epoch更新后，测试集上损失的变化和准确率的变化\n",
        "        Y_test_pred = predict(X_test, theta, theta_0)\n",
        "        Y_test_hat = np.round(Y_test_pred)\n",
        "        test_acc.append(accuracy(Y_test_hat, Y_test))\n",
        "        test_cost.append(cost(Y_test_pred, Y_test, num_test))\n",
        "        \n",
        "    return train_cost,test_cost,train_acc,test_acc\n",
        "        \n",
        "train_cost,test_cost,train_acc,test_acc = train(X, Y, theta, theta_0, max_iter, batch_size, learning_rate)      \n",
        "len(train_cost) #out: 40"
      ],
      "execution_count": null,
      "outputs": [
        {
          "output_type": "execute_result",
          "data": {
            "text/plain": [
              "40"
            ]
          },
          "metadata": {},
          "execution_count": 112
        }
      ]
    },
    {
      "cell_type": "markdown",
      "metadata": {
        "id": "bzohrNVrPfyW"
      },
      "source": [
        "### 任务七：观察模型在训练集和验证集上的表现"
      ]
    },
    {
      "cell_type": "markdown",
      "metadata": {
        "id": "lUQiMORBPfyW"
      },
      "source": [
        "用matplotlib(plt)里的方法生成图表，观察随着迭代进行，模型损失和准确率的变化"
      ]
    },
    {
      "cell_type": "code",
      "metadata": {
        "id": "gmEXO9EEPfyX",
        "colab": {
          "base_uri": "https://localhost:8080/",
          "height": 281
        },
        "outputId": "56d082ff-049f-45e9-adc8-83bcd6685366"
      },
      "source": [
        "#子图1：损失\n",
        "p1 = plt.subplot(121)\n",
        "p1.plot(train_cost)\n",
        "p1.plot(test_cost)\n",
        "p1.legend(['train', 'test'])\n",
        "p1.set_title(\"cost\")\n",
        "\n",
        "#子图2，准确率\n",
        "p2 = plt.subplot(122)\n",
        "p2.plot(train_acc)\n",
        "p2.plot(test_acc)\n",
        "p2.legend(['train', 'test'])\n",
        "p2.set_title(\"accuracy\")\n",
        "plt.show()"
      ],
      "execution_count": null,
      "outputs": [
        {
          "output_type": "display_data",
          "data": {
            "image/png": "[encoded data removed]",
            "text/plain": [
              "<Figure size 432x288 with 2 Axes>"
            ]
          },
          "metadata": {
            "needs_background": "light"
          }
        }
      ]
    },
    {
      "cell_type": "markdown",
      "metadata": {
        "id": "Ts1oGsrRPfyX"
      },
      "source": [
        "### 样例输出：\n",
        "![2.png](attachment:/content/drive/MyDrive/ML_HW/ML_HW2/image/2.png)\n",
        "由于训练过程有一定随机性，训练结果可能存在不同"
      ]
    }
  ]
}