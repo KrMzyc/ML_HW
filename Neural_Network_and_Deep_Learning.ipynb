{
  "nbformat": 4,
  "nbformat_minor": 0,
  "metadata": {
    "kernelspec": {
      "display_name": "Python 3",
      "language": "python",
      "name": "python3"
    },
    "language_info": {
      "codemirror_mode": {
        "name": "ipython",
        "version": 3
      },
      "file_extension": ".py",
      "mimetype": "text/x-python",
      "name": "python",
      "nbconvert_exporter": "python",
      "pygments_lexer": "ipython3",
      "version": "3.7.3"
    },
    "toc": {
      "base_numbering": 1,
      "nav_menu": {},
      "number_sections": true,
      "sideBar": true,
      "skip_h1_title": false,
      "title_cell": "Table of Contents",
      "title_sidebar": "Contents",
      "toc_cell": false,
      "toc_position": {},
      "toc_section_display": true,
      "toc_window_display": false
    },
    "varInspector": {
      "cols": {
        "lenName": 16,
        "lenType": 16,
        "lenVar": 40
      },
      "kernels_config": {
        "python": {
          "delete_cmd_postfix": "",
          "delete_cmd_prefix": "del ",
          "library": "var_list.py",
          "varRefreshCmd": "print(var_dic_list())"
        },
        "r": {
          "delete_cmd_postfix": ") ",
          "delete_cmd_prefix": "rm(",
          "library": "var_list.r",
          "varRefreshCmd": "cat(var_dic_list()) "
        }
      },
      "types_to_exclude": [
        "module",
        "function",
        "builtin_function_or_method",
        "instance",
        "_Feature"
      ],
      "window_display": false
    },
    "colab": {
      "name": "Neural Network and Deep Learning.ipynb",
      "provenance": [],
      "collapsed_sections": []
    },
    "accelerator": "GPU"
  },
  "cells": [
    {
      "cell_type": "markdown",
      "metadata": {
        "id": "BBpIp5fQio9b"
      },
      "source": [
        "# Neural Networks & Deep Learning\n",
        "在这一节中，我们将构建一个三层的神经网络来处理手写数字识别问题，之后我们将运用AdaGrad、RMSprop、Momentum、Nesterov Momentum和Adam优化算法来加速梯度下降的过程，首先我们先来实现一个简单的神经网络。 \n",
        "\n",
        "## 1. 导入所需的Python库"
      ]
    },
    {
      "cell_type": "code",
      "metadata": {
        "colab": {
          "base_uri": "https://localhost:8080/"
        },
        "id": "hGj5wWBYizrK",
        "outputId": "ef51b1e5-b808-447e-ac6e-0a625ed1f6a6"
      },
      "source": [
        "from google.colab import drive\n",
        "drive.mount('/content/drive')"
      ],
      "execution_count": 4,
      "outputs": [
        {
          "output_type": "stream",
          "name": "stdout",
          "text": [
            "Drive already mounted at /content/drive; to attempt to forcibly remount, call drive.mount(\"/content/drive\", force_remount=True).\n"
          ]
        }
      ]
    },
    {
      "cell_type": "code",
      "metadata": {
        "colab": {
          "base_uri": "https://localhost:8080/"
        },
        "id": "ROKlGOsdjJlR",
        "outputId": "f731070a-3d07-4aee-b86d-66d7250480a7"
      },
      "source": [
        "import sys\n",
        "from google.colab import drive\n",
        "drive.mount('/content/drive')\n",
        "sys.path.append('/content/drive/MyDrive/ML_HW/HW4_neural_network')"
      ],
      "execution_count": 5,
      "outputs": [
        {
          "output_type": "stream",
          "name": "stdout",
          "text": [
            "Drive already mounted at /content/drive; to attempt to forcibly remount, call drive.mount(\"/content/drive\", force_remount=True).\n"
          ]
        }
      ]
    },
    {
      "cell_type": "code",
      "metadata": {
        "id": "aDn_HfMZio9f"
      },
      "source": [
        "# coding: utf-8\n",
        "import numpy as np\n",
        "import matplotlib.pyplot as plt\n",
        "from utils import load_mnist"
      ],
      "execution_count": 6,
      "outputs": []
    },
    {
      "cell_type": "code",
      "metadata": {
        "id": "Y0QFs-Zpio9g"
      },
      "source": [
        "from collections import OrderedDict"
      ],
      "execution_count": 7,
      "outputs": []
    },
    {
      "cell_type": "markdown",
      "metadata": {
        "id": "BzoFX6sdio9g"
      },
      "source": [
        "## 2. 加载数据并可视化"
      ]
    },
    {
      "cell_type": "markdown",
      "metadata": {
        "id": "eY0cOeFnio9h"
      },
      "source": [
        "先介绍一下在这个实验中所用到的数据库MNIST，MNIST数据集是一个手写体数据集，其中每个手写数字是一张28×28的灰度图片，图片的标记为一个0-9表示的数字。  MNIST数据集一共有60000张图片用来作为训练集，10000张图片来作为测试集。  \n",
        "我们知道一张灰度图片一般是二维的，但是神经网络中的全连接层的输入是一个一维的向量。所以我们需要将一张二维的灰度图片“压扁”成一个一维的向量，具体如下图所示：\n",
        "<img src=\"/content/drive/MyDrive/ML_HW/HW4_neural_network/images/2d_to_1d.jpg\" width=\"300\" height=\"300\" alt=\"2d_to_1d\" align=center>\n",
        "\n",
        "因此每一个样本都是一个784维的向量。 \n",
        "\n",
        "在处理多分类任务时，我们可以使用softmax来进行处理，这里的手写数字识别任务就是一个多分类任务，共包含有10类，分别用数字0-9表示，而在softmax中，每一类可以表示为一个向量，所以我们需要将类对应的符号标记转化成一个向量表示，这就是one-hot向量，比如，在手写数字识别中，数字0和1对应的one-hot向量分别为： \n",
        "$$one-hot(0)=\\begin{bmatrix}1 \\\\ 0\\\\ 0\\\\ 0\\\\ 0\\\\ 0\\\\ 0\\\\ 0\\\\ 0\\\\ 0\\\\ \\end{bmatrix},one-hot(1)=\\begin{bmatrix}0 \\\\ 1\\\\ 0\\\\ 0\\\\ 0\\\\ 0\\\\ 0\\\\ 0\\\\ 0\\\\ 0\\\\ \\end{bmatrix}$$ \n",
        "在训练集中，我们需要把样本的标记$Y$转化为one-hot向量。 "
      ]
    },
    {
      "cell_type": "code",
      "metadata": {
        "id": "WsSgNJxCio9h"
      },
      "source": [
        "#加载训练集或测试集\n",
        "path = '/content/drive/MyDrive/ML_HW/HW4_neural_network/MNIST Data' #数据集文件所在目录\n",
        "# 加载训练集合测试集\n",
        "# 设置normalization为True，将数据缩放到[0,1]之间\n",
        "# 设置one_hot_label为True，将标签转化为one_hot向量\n",
        "(x_train, y_train), (x_test, y_test) = load_mnist(path, normalize=True, one_hot_label=True)"
      ],
      "execution_count": 8,
      "outputs": []
    },
    {
      "cell_type": "code",
      "metadata": {
        "colab": {
          "base_uri": "https://localhost:8080/"
        },
        "id": "A1Lg_na5io9i",
        "outputId": "2b21db2d-bf53-40bf-cc13-745792dcf606"
      },
      "source": [
        "print('The shape of X_train is:',x_train.shape)\n",
        "print('The shape of Y_train is:',y_train.shape)\n",
        "print('The shape of X_test is:',x_test.shape)\n",
        "print('The shape of Y_test is:',y_test.shape)"
      ],
      "execution_count": 9,
      "outputs": [
        {
          "output_type": "stream",
          "name": "stdout",
          "text": [
            "The shape of X_train is: (60000, 784)\n",
            "The shape of Y_train is: (60000, 10)\n",
            "The shape of X_test is: (10000, 784)\n",
            "The shape of Y_test is: (10000, 10)\n"
          ]
        }
      ]
    },
    {
      "cell_type": "markdown",
      "metadata": {
        "id": "45ZW8yWgio9i"
      },
      "source": [
        "下面在训练集中找几个图片看一下。"
      ]
    },
    {
      "cell_type": "code",
      "metadata": {
        "colab": {
          "base_uri": "https://localhost:8080/",
          "height": 158
        },
        "id": "MQkkxdisio9j",
        "outputId": "19cccb14-1710-44d9-a3ff-c47f811f1761"
      },
      "source": [
        "fig = plt.figure()\n",
        "\n",
        "ax1 = fig.add_subplot(141)\n",
        "ax1.imshow(x_train[1,:].reshape(28, 28), cmap='Greys')\n",
        "ax2 = fig.add_subplot(142)\n",
        "ax2.imshow(x_train[2,:].reshape(28,28), cmap='Greys')\n",
        "ax3 = fig.add_subplot(143)\n",
        "ax3.imshow(x_train[3,:].reshape(28,28), cmap='Greys')\n",
        "ax4 = fig.add_subplot(144)\n",
        "ax4.imshow(x_train[4,:].reshape(28,28), cmap='Greys')\n",
        "plt.show()\n",
        "print('one hot 标签：',y_train[1,:],y_train[2,:],y_train[3,:],y_train[4,:])\n",
        "print('对应的实际标签：',np.argmax(y_train[1,:]),np.argmax(y_train[2,:]),np.argmax(y_train[3,:]),np.argmax(y_train[4,:]))"
      ],
      "execution_count": 10,
      "outputs": [
        {
          "output_type": "display_data",
          "data": {
            "image/png": "[encoded data removed]",
            "text/plain": [
              "<Figure size 432x288 with 4 Axes>"
            ]
          },
          "metadata": {
            "needs_background": "light"
          }
        },
        {
          "output_type": "stream",
          "name": "stdout",
          "text": [
            "one hot 标签： [1. 0. 0. 0. 0. 0. 0. 0. 0. 0.] [0. 0. 0. 0. 1. 0. 0. 0. 0. 0.] [0. 1. 0. 0. 0. 0. 0. 0. 0. 0.] [0. 0. 0. 0. 0. 0. 0. 0. 0. 1.]\n",
            "对应的实际标签： 0 4 1 9\n"
          ]
        }
      ]
    },
    {
      "cell_type": "markdown",
      "metadata": {
        "id": "mJxmOzPAio9j"
      },
      "source": [
        "## 3. 全连接神经网络"
      ]
    },
    {
      "cell_type": "markdown",
      "metadata": {
        "id": "DetuCSx_io9k"
      },
      "source": [
        "接下来，我们来搭建一个三层全连接神经网络。网络结构如下图所示：\n",
        "<img src=\"./images/network_architecture.jpg\" width=\"500\" height=\"500\" alt=\"network_architecture\" align=center>\n",
        "\n",
        "对公式所用符号的说明：  \n",
        "一般算神经网络层数不算输入层，所以上图只有3层。用右上角的方括号表示相应的层，所有第1层的权重$W$为$W^{[1]}$，第1层的偏置项$b$为$b^{[1]}$(图中未标出)，第1层的激活值$A$为$A^{[1]}$。  \n",
        "\n",
        "前两层的激活函数使用ReLU，最后一层使用Softmax进行分类"
      ]
    },
    {
      "cell_type": "markdown",
      "metadata": {
        "id": "lcu1eHrQio9k"
      },
      "source": [
        "### 3.1 初始化网络参数\n",
        "\n",
        "我们规定第1层的神经元个数为300，第二层个数为300，最后一层为10.输入向量$X$的维度为784，那么整个网络对应的参数也就可以确定了。  \n",
        "$W^{[1]}$的shape为$(784,300)$，$b^{[1]}$的shape为$(300,)$  \n",
        "$W^{[2]}$的shape为$(300,300)$，$b^{[2]}$的shape为$(300,)$  \n",
        "$W^{[3]}$的shape为$(300,10)$，$b^{[3]}$的shape为$(10,)$  \n",
        "这里使用随机正态分布再乘上比例因子0.01来初始化$W$， 对$b$都初始化为0.  \n",
        "**Hint**: 使用`np.random.randn()`,`np.zeros()`  \n"
      ]
    },
    {
      "cell_type": "code",
      "metadata": {
        "code_folding": [
          0
        ],
        "id": "mRNvAXcEio9k"
      },
      "source": [
        "def initialize_parameters(input_size, hidden_size, output_size, weight_init_std):\n",
        "    \"\"\"\n",
        "    @param input_size:输入向量维度\n",
        "    @param hidden_size:中间神经元个数\n",
        "    @param output_size:输出层神经元个数\n",
        "    @param weight_init_std:比例因子\n",
        "    \"\"\"\n",
        "    np.random.seed(1)\n",
        "    params = {}\n",
        "    ### START CODE HERE ### \n",
        "    params['W1'] = weight_init_std*np.random.randn(input_size,hidden_size)\n",
        "    params['b1'] = np.zeros(hidden_size)\n",
        "    params['W2'] = weight_init_std*np.random.randn(hidden_size,hidden_size)\n",
        "    params['b2'] = np.zeros(hidden_size)\n",
        "    params['W3'] = weight_init_std*np.random.randn(hidden_size,output_size)\n",
        "    params['b3'] = np.zeros(output_size)\n",
        "    \n",
        "    ### END CODE HERE ### \n",
        "    \n",
        "    return params"
      ],
      "execution_count": 11,
      "outputs": []
    },
    {
      "cell_type": "markdown",
      "metadata": {
        "id": "cYAGH3rsio9l"
      },
      "source": [
        "### 3.2 定义神经网络的每一层\n",
        "我们将构成神经网络的层实现为一个单独的类\n",
        "\n",
        "我们先来实现ReLU层"
      ]
    },
    {
      "cell_type": "markdown",
      "metadata": {
        "id": "X3pqaZwJio9l"
      },
      "source": [
        "#### ReLU层"
      ]
    },
    {
      "cell_type": "markdown",
      "metadata": {
        "id": "xHhMkFsDio9l"
      },
      "source": [
        "激活函数ReLU的表达式为：\n",
        "$$\n",
        "\\left\\{\\begin{matrix}\n",
        "x & (x>0)\\\\ \n",
        "0 & (x \\leq 0)\n",
        "\\end{matrix}\\right.\n",
        "$$\n",
        "可以通过上式求出y关于x的导数：\n",
        "$$\n",
        "\\frac{\\partial y}{\\partial x} = \\left\\{\\begin{matrix}\n",
        "1 & (x>0)\\\\ \n",
        "0 & (x \\leq 0)\n",
        "\\end{matrix}\\right.\n",
        "$$\n",
        "\n",
        "如果正向传播时的输入x大于0，则反向传播会将上游的值原封不动地传给下游。反过来，如果正向传播时的x小于等于0，则反向传播中传给下游的信号将停在此处，如图所示：\n",
        "<img src=\"./images/ReLU.png\" width=\"600\" height=\"600\" alt=\"ReLU\" align=center>\n"
      ]
    },
    {
      "cell_type": "code",
      "metadata": {
        "code_folding": [
          0
        ],
        "id": "43nRiqipio9m"
      },
      "source": [
        "class Relu:\n",
        "    def __init__(self):\n",
        "        self.mask = None\n",
        "\n",
        "    def forward(self, x):\n",
        "        self.mask = (x <= 0)\n",
        "        out = x.copy()\n",
        "        ### START CODE HERE ### \n",
        "        out[self.mask] = 0\n",
        "        ### END CODE HERE ### \n",
        "        return out\n",
        "\n",
        "    def backward(self, dout):\n",
        "        ### START CODE HERE ### \n",
        "        dout[self.mask] = 0\n",
        "        ### END CODE HERE ### \n",
        "        dx = dout\n",
        "        return dx"
      ],
      "execution_count": 12,
      "outputs": []
    },
    {
      "cell_type": "markdown",
      "metadata": {
        "id": "xRn4A6Yaio9m"
      },
      "source": [
        "测试一下效果"
      ]
    },
    {
      "cell_type": "code",
      "metadata": {
        "colab": {
          "base_uri": "https://localhost:8080/"
        },
        "id": "AgR1ZP2Mio9m",
        "outputId": "a6098a27-a171-4ddf-f8cb-d2e9bbffe161"
      },
      "source": [
        "relu = Relu()\n",
        "x = np.array( [[1.0, -0.5], [-2.0, 3.0]] )\n",
        "relu.forward(x), relu.backward(x)"
      ],
      "execution_count": 13,
      "outputs": [
        {
          "output_type": "execute_result",
          "data": {
            "text/plain": [
              "(array([[1., 0.],\n",
              "        [0., 3.]]), array([[1., 0.],\n",
              "        [0., 3.]]))"
            ]
          },
          "metadata": {},
          "execution_count": 13
        }
      ]
    },
    {
      "cell_type": "markdown",
      "metadata": {
        "id": "hGvYPDbDio9m"
      },
      "source": [
        "#### Affine层"
      ]
    },
    {
      "cell_type": "markdown",
      "metadata": {
        "id": "tWs0LGl4io9n"
      },
      "source": [
        "神经网络的正向传播中，为了计算加权信号的总和，使用了矩阵的乘积运算，回顾一下公式：\n",
        "$$\n",
        "Y = XW + B\n",
        "$$\n",
        "即`Y = np.dot(X, W) + B`  \n",
        "假设X,W,B的形状分别为(2,)、(2,3)、(3,)\n",
        "<img src=\"./images/Affine1.png\">\n",
        "现在将这里进行的求矩阵的乘积与偏置的和的运算用计算图表示出来。将乘积运算用“dot”节点表示的话，则np.dot(X, W) + B的运算如图所示：\n",
        "<img src=\"./images/Affine2.png\">\n",
        "\n",
        "以矩阵为对象的反向传播，按矩阵的各个元素进行计算时，步骤和以标量为对象的计算图相同。实际写\n",
        "一下的话，可以推导得到：\n",
        "$$\n",
        "\\frac{\\partial L}{\\partial X} = \\frac{\\partial L}{\\partial Y} \\cdot W^T\n",
        "$$\n",
        "  \n",
        "$$\n",
        "\\frac{\\partial L}{\\partial W} = X^T \\cdot \\frac{\\partial L}{\\partial Y}\n",
        "$$\n",
        "根据这个式子我们可以写出计算图的反向传播：\n",
        "<img src=\"./images/Affine3.png\">\n",
        "\n",
        "前面介绍的Affine层的输入是以单个数据为对象的，现在我们考虑N个数据一起进行正向传播，计算图如下：\n",
        "<img src=\"./images/Affine4.png\">\n",
        "与刚刚不同的是，现在输入X的形状是(N, 2)。之后就和前面一样，在计算图上进行单纯的矩阵计算。反向传播时，如果注意矩阵的形状，就可以和前面一样推导出$\\frac{\\partial L}{\\partial X}$和$\\frac{\\partial L}{\\partial W}$。"
      ]
    },
    {
      "cell_type": "code",
      "metadata": {
        "code_folding": [
          1,
          20
        ],
        "id": "OvnE5LM-io9n"
      },
      "source": [
        "class Affine:\n",
        "    def __init__(self, W, b):\n",
        "        self.W =W\n",
        "        self.b = b\n",
        "        \n",
        "        self.x = None\n",
        "        self.original_x_shape = None\n",
        "        # 权重和偏置参数的导数\n",
        "        self.dW = None\n",
        "        self.db = None\n",
        "\n",
        "    def forward(self, x):\n",
        "        self.original_x_shape = x.shape\n",
        "        x = x.reshape(x.shape[0], -1)\n",
        "        self.x = x\n",
        "        ### START CODE HERE ### \n",
        "        out = np.dot(self.x,self.W)+self.b\n",
        "        ### END CODE HERE ### \n",
        "        return out\n",
        "\n",
        "    def backward(self, dout):\n",
        "        dx = np.dot(dout, self.W.T)\n",
        "        ### START CODE HERE ### \n",
        "        self.dW = np.dot(self.x.T,dout)\n",
        "        self.db = np.sum(dout,axis=0)\n",
        "        ### END CODE HERE ### \n",
        "        \n",
        "        dx = dx.reshape(*self.original_x_shape)  # 还原输入数据的形状（对应张量）\n",
        "        return dx"
      ],
      "execution_count": 14,
      "outputs": []
    },
    {
      "cell_type": "markdown",
      "metadata": {
        "id": "4qAdrEfBio9n"
      },
      "source": [
        "#### Softmax-with-Loss层"
      ]
    },
    {
      "cell_type": "markdown",
      "metadata": {
        "id": "YcjvK3mdio9n"
      },
      "source": [
        "softmax函数会将输入值正规化后输出，如图所示：\n",
        "<img src=\"./images/softmax.png\">\n",
        "具体公式为\n",
        "$$softmax(x_i)=\\frac{e^{x_i}}{\\sum_{j=1}^{C}{e^{x_j}}}$$ \n",
        "$x_i$表示为向量$x$的第$i$个分量。  $softmax$函数这里直接给出"
      ]
    },
    {
      "cell_type": "code",
      "metadata": {
        "code_folding": [
          0
        ],
        "id": "4mAKNEUJio9n"
      },
      "source": [
        "def softmax(x):\n",
        "    x = x.T\n",
        "    x = x - np.max(x, axis=0)\n",
        "    y = np.exp(x) / np.sum(np.exp(x), axis=0)\n",
        "    return y.T "
      ],
      "execution_count": 15,
      "outputs": []
    },
    {
      "cell_type": "markdown",
      "metadata": {
        "id": "yCKdmBhrio9n"
      },
      "source": [
        "在softmax中，我们一般使用的损失函数为交叉熵函数：  \n",
        "$$L(\\hat{y},y)=-\\sum_{j=1}^{C}{y_jlog\\hat{y_j}}$$  \n",
        "其中，$C$是类别的数量，在本次实验中即为10.  \n",
        "成本函数为：  \n",
        "$$J(W^{[1]},b^{[1]},...)=\\frac{1}{m}\\sum_{i=1}^{m}{L(\\hat{y}^{(i)},y^{(i)})}$$  \n",
        "这里$m$是mini-batch的大小。因为训练集有60000个，我们不能直接把$(60000,784)$大小的输入直接放入神经网络计算。因此，每次就选择一部分来进行前向传播，所以输入的大小是$(m,784)$.\n",
        "**Hint**: 最后的Loss是个标量 "
      ]
    },
    {
      "cell_type": "code",
      "metadata": {
        "code_folding": [
          0
        ],
        "id": "Wo29G3SIio9o"
      },
      "source": [
        "def cross_entropy_error(pred, y):\n",
        "    if pred.ndim == 1:\n",
        "        y = y.reshape(1, y.size)\n",
        "        pred = pred.reshape(1, pred.size)\n",
        "        \n",
        "    # 监督数据是one-hot-vector的情况下，转换为正确解标签的索引\n",
        "    if y.size == pred.size:\n",
        "        y = y.argmax(axis=1)\n",
        "             \n",
        "    batch_size = pred.shape[0]\n",
        "    \n",
        "    res = None\n",
        "\n",
        "    res = -np.sum(np.log(pred[:, y] + 1e-7)) / batch_size\n",
        "    \n",
        "    return res"
      ],
      "execution_count": 16,
      "outputs": []
    },
    {
      "cell_type": "markdown",
      "metadata": {
        "id": "HXygGZMXio9o"
      },
      "source": [
        "下面来实现Softmax 层。考虑到这里也包含作为损失函数的交叉熵误差（cross entropy error），所以称为“Softmax-with-Loss 层”。Softmax-with-Loss 层（Softmax函数和交叉熵误差）的计算图如图所示。\n",
        "<img src=\"./images/softmax-cross.png\">\n",
        "\n",
        "可以看到，Softmax-with-Loss 层有些复杂。这里只给出了最终结果。"
      ]
    },
    {
      "cell_type": "code",
      "metadata": {
        "code_folding": [
          0
        ],
        "id": "JETGjh1lio9o"
      },
      "source": [
        "class SoftmaxWithLoss:\n",
        "    def __init__(self):\n",
        "        self.loss = None\n",
        "        self.pred = None # softmax的输出\n",
        "        self.y = None # 监督数据\n",
        "\n",
        "    def forward(self, x, y):\n",
        "        self.y = y\n",
        "        self.pred = softmax(x)\n",
        "        self.loss = cross_entropy_error(self.pred, self.y)\n",
        "        \n",
        "        return self.loss\n",
        "\n",
        "    def backward(self, dout=1):\n",
        "        batch_size = self.y.shape[0]\n",
        "        if self.y.size == self.pred.size: # 监督数据是one-hot-vector的情况\n",
        "            dx = (self.pred - self.y) / batch_size\n",
        "        else:\n",
        "            dx = self.pred.copy()\n",
        "            dx[np.arange(batch_size), self.y] -= 1\n",
        "            dx = dx / batch_size\n",
        "        \n",
        "        return dx"
      ],
      "execution_count": 17,
      "outputs": []
    },
    {
      "cell_type": "markdown",
      "metadata": {
        "id": "Z7St5YBGio9o"
      },
      "source": [
        "### 3.3 搭积木\n",
        "现在我们把之前的每一层组合在一起就能搭成我们自己的三层神经网络了。\n",
        "神经网络学习的步骤大致有5步：\n",
        "1. 初始化权重\n",
        "2. 随机选择一部分数据\n",
        "3. 计算梯度\n",
        "4. 更新参数\n",
        "5. 重复步骤2,3,4\n"
      ]
    },
    {
      "cell_type": "code",
      "metadata": {
        "code_folding": [
          0,
          1,
          18,
          27,
          35,
          48
        ],
        "id": "PTt6yvFfio9o"
      },
      "source": [
        "class TwoLayerNet:\n",
        "    def __init__(self, input_size, hidden_size, output_size, weight_init_std = 0.01):\n",
        "        \n",
        "        # 初始化权重\n",
        "        self.params = initialize_parameters(input_size, hidden_size, output_size, weight_init_std)\n",
        "        # 记录训练次数 adam里要用\n",
        "        self.t = 0\n",
        "\n",
        "        # 生成层\n",
        "        self.layers = OrderedDict()\n",
        "        self.layers['Affine1'] = Affine(self.params['W1'], self.params['b1'])\n",
        "        self.layers['Relu1'] = Relu()\n",
        "        self.layers['Affine2'] = Affine(self.params['W2'], self.params['b2'])\n",
        "        self.layers['Relu2'] = Relu()\n",
        "        self.layers['Affine3'] = Affine(self.params['W3'], self.params['b3'])\n",
        "    \n",
        "        self.lastLayer = SoftmaxWithLoss()\n",
        "        \n",
        "    def predict(self, x):\n",
        "        # 前向传播\n",
        "        pred = x.copy()\n",
        "        for layer in self.layers.values():\n",
        "            ### START CODE HERE ### \n",
        "            pred = layer.forward(pred)\n",
        "            ### END CODE HERE ### \n",
        "        return pred\n",
        "        \n",
        "    def loss(self, x, y):\n",
        "        # 计算交叉熵误差\n",
        "        ### START CODE HERE ### \n",
        "        pred = self.predict(x)\n",
        "        loss = self.lastLayer.forward(pred,y)\n",
        "        ### END CODE HERE ### \n",
        "        return loss\n",
        "    \n",
        "    def accuracy(self, x, y):\n",
        "        # 输入数据x和标签y，输出当前神经网络的预测准确率\n",
        "        accuracy = None\n",
        "        pred = self.predict(x)\n",
        "        pred = np.argmax(pred, axis=1)\n",
        "        if y.ndim != 1:\n",
        "            y = np.argmax(y, axis=1)\n",
        "        \n",
        "        accuracy = np.sum(pred == y) / float(x.shape[0])\n",
        "\n",
        "        return accuracy\n",
        "        \n",
        "    def gradient(self, x, y):\n",
        "        # 前向传播\n",
        "        self.loss(x, y)\n",
        "\n",
        "        # 反向传播\n",
        "        dout = 1\n",
        "        dout = self.lastLayer.backward(dout)\n",
        "        \n",
        "        layers = list(self.layers.values())\n",
        "        layers.reverse()\n",
        "        for layer in layers:\n",
        "            dout = layer.backward(dout)\n",
        "\n",
        "        # 设定\n",
        "        grads = {}\n",
        "        grads['W1'], grads['b1'] = self.layers['Affine1'].dW, self.layers['Affine1'].db\n",
        "        grads['W2'], grads['b2'] = self.layers['Affine2'].dW, self.layers['Affine2'].db\n",
        "        grads['W3'], grads['b3'] = self.layers['Affine3'].dW, self.layers['Affine3'].db\n",
        "        \n",
        "        return grads"
      ],
      "execution_count": 18,
      "outputs": []
    },
    {
      "cell_type": "markdown",
      "metadata": {
        "id": "6brXRKpMio9p"
      },
      "source": [
        "### 3.4 进行训练"
      ]
    },
    {
      "cell_type": "markdown",
      "metadata": {
        "id": "OrEXnbMDio9p"
      },
      "source": [
        "首先定义参数更新函数"
      ]
    },
    {
      "cell_type": "code",
      "metadata": {
        "code_folding": [
          0
        ],
        "id": "nAt8l4QPio9p"
      },
      "source": [
        "def update_parameters(network, grads, learning_rate=0.001):\n",
        "    \"\"\"\n",
        "    使用梯度下降法更新network的参数\n",
        "    \"\"\"\n",
        "    \n",
        "    ### START CODE HERE ### \n",
        "    \n",
        "    for key in ('W1', 'b1', 'W2', 'b2', 'W3', 'b3'):\n",
        "        network.params[key] -= learning_rate*grads[key]\n",
        "    \n",
        "    ### END CODE HERE ###\n",
        "    return "
      ],
      "execution_count": 19,
      "outputs": []
    },
    {
      "cell_type": "markdown",
      "metadata": {
        "id": "9i1eSIwvio9p"
      },
      "source": [
        "然后定义训练函数"
      ]
    },
    {
      "cell_type": "code",
      "metadata": {
        "code_folding": [
          0
        ],
        "id": "FpLnG9Imio9p"
      },
      "source": [
        "def train_network(network, update_params_method, iters_num, train_size, batch_size, learning_rate):\n",
        "    train_loss_list = []\n",
        "    train_acc_list = []\n",
        "    test_acc_list = []\n",
        "\n",
        "    iter_per_epoch = max(train_size / batch_size, 1)\n",
        "\n",
        "    for i in range(iters_num):\n",
        "        batch_mask = np.random.choice(train_size, batch_size)\n",
        "        x_batch = x_train[batch_mask]\n",
        "        t_batch = y_train[batch_mask]\n",
        "        network.t += 1\n",
        "\n",
        "        # 计算梯度\n",
        "        grad = network.gradient(x_batch, t_batch)\n",
        "\n",
        "        # 更新梯度\n",
        "        update_params_method(network, grad, learning_rate)\n",
        "\n",
        "        loss = network.loss(x_batch, t_batch)\n",
        "        train_loss_list.append(loss)\n",
        "\n",
        "        if i % iter_per_epoch == 0:\n",
        "            train_acc = network.accuracy(x_train, y_train)\n",
        "            test_acc = network.accuracy(x_test, y_test)\n",
        "            train_acc_list.append(train_acc)\n",
        "            test_acc_list.append(test_acc)\n",
        "            print(\"Train acc:{:<.6f}\\tTest acc:{:<.6f}\".format(train_acc, test_acc))"
      ],
      "execution_count": 20,
      "outputs": []
    },
    {
      "cell_type": "code",
      "metadata": {
        "id": "UQKYKRzJio9p"
      },
      "source": [
        "# 读入数据\n",
        "(x_train, y_train), (x_test, y_test) = load_mnist(path, normalize=True, one_hot_label=True)"
      ],
      "execution_count": 21,
      "outputs": []
    },
    {
      "cell_type": "code",
      "metadata": {
        "id": "IYk30Ustio9q"
      },
      "source": [
        "network = TwoLayerNet(input_size=784, hidden_size=300, output_size=10)"
      ],
      "execution_count": 22,
      "outputs": []
    },
    {
      "cell_type": "code",
      "metadata": {
        "colab": {
          "base_uri": "https://localhost:8080/"
        },
        "id": "KvbD6Q1aio9q",
        "outputId": "b43cf634-d338-4df6-f403-56856591fcb1"
      },
      "source": [
        "iters_num = 10000\n",
        "train_size = x_train.shape[0]\n",
        "batch_size = 100\n",
        "learning_rate = 0.1\n",
        "train_network(network, update_parameters, iters_num, train_size, batch_size, learning_rate)"
      ],
      "execution_count": 23,
      "outputs": [
        {
          "output_type": "stream",
          "name": "stdout",
          "text": [
            "Train acc:0.087200\tTest acc:0.086500\n",
            "Train acc:0.881483\tTest acc:0.887300\n",
            "Train acc:0.924683\tTest acc:0.922100\n",
            "Train acc:0.946400\tTest acc:0.946400\n",
            "Train acc:0.958733\tTest acc:0.954900\n",
            "Train acc:0.969550\tTest acc:0.964600\n",
            "Train acc:0.974883\tTest acc:0.968500\n",
            "Train acc:0.978117\tTest acc:0.971100\n",
            "Train acc:0.981833\tTest acc:0.972100\n",
            "Train acc:0.984933\tTest acc:0.975100\n",
            "Train acc:0.987933\tTest acc:0.978300\n",
            "Train acc:0.988950\tTest acc:0.977200\n",
            "Train acc:0.987800\tTest acc:0.975900\n",
            "Train acc:0.991833\tTest acc:0.978300\n",
            "Train acc:0.993367\tTest acc:0.978200\n",
            "Train acc:0.993417\tTest acc:0.978300\n",
            "Train acc:0.992333\tTest acc:0.978400\n"
          ]
        }
      ]
    },
    {
      "cell_type": "markdown",
      "metadata": {
        "id": "mFuXqJiqio9q"
      },
      "source": [
        "### 3.5 梯度下降优化算法\n",
        "下面回顾几种上课讲过的优化算法，注意它们之间的差异与联系。"
      ]
    },
    {
      "cell_type": "markdown",
      "metadata": {
        "id": "X_sfr74Lio9q"
      },
      "source": [
        "#### 3.5.1AdaGrad  "
      ]
    },
    {
      "cell_type": "markdown",
      "metadata": {
        "id": "Ub2XzKUnio9q"
      },
      "source": [
        "当$J(\\theta)$收敛到最低值附近时，因为步长$\\alpha$大小固定的原因，$J(\\theta)$会在最低值附近徘徊，而不能到达最低值。因此，AdaGrad的想法是随着迭代次数的增加降低学习率$\\alpha$，学习率$\\alpha$衰减的方式是\n",
        "$$\n",
        "\\alpha^t = \\frac{\\alpha}{\\sqrt{t+1}}\n",
        "$$\n",
        "其中t表示第t次迭代。\n",
        "\n",
        "如果梯度数值小，$J(\\theta)$的移动步长小，$J(\\theta)$在坡度平缓的区域内下降速度会变慢。AdaGrad使用均方根来加快$J(\\theta)$在平缓区域的下降速度。均方根的表示为\n",
        "$$\n",
        "\\sigma^t = \\sqrt{\\frac{1}{t+1} \\sum_{i=0}^{t}(g^i)2}\n",
        "$$\n",
        "其中$g^i$表示历史的梯度值。AdaGrad 的更新参数公式是\n",
        "$$\n",
        "\\begin{aligned}\n",
        "\\theta^{t+1} & := \\theta^t - \\frac{\\alpha^t}{\\sigma^t} g^t \\\\\n",
        "& := \\theta^t - \\frac{\\alpha}{\\sqrt{\\sum_{i=0}^t (g^i)^2}} g^t\n",
        "\\end{aligned}\n",
        "$$\n",
        "在坡度平缓的区域，均方根的数值小，梯度除以一个数值小的数会变大，从而加大了$J(\\theta)$移动步长，也因此加快梯度下降速度。但是，AdaGrad的缺点是，随着迭代次数的增大，均方根会越来越大，梯度趋近于0，导致训练提前停止。为了防止分母为0，我们给分母加上一个小数值$\\epsilon =10^{-7}$。\n",
        "$$\n",
        "\\theta^{t+1} := \\theta^t - \\frac{\\alpha}{\\sqrt{\\sum_{i=0}^t (g^i)^2} + \\epsilon} g^t\n",
        "$$\n",
        "\n",
        "我们可以看到分母里会计算所有历史梯度值的平方和，所以在实现的时候不用保存所有的历史梯度值，只需要保存一个纪录所有历史梯度平方和的值即可。每个参数的历史梯度和初始值为0。   "
      ]
    },
    {
      "cell_type": "code",
      "metadata": {
        "code_folding": [
          0
        ],
        "id": "qFrIPmb9io9q"
      },
      "source": [
        "def initialize_grads_squared(network):\n",
        "    \"\"\"\n",
        "    初始化历史梯度和\n",
        "    \"\"\"\n",
        "    grads_squared = {}\n",
        "    \n",
        "    for key in ('W1', 'b1', 'W2', 'b2', 'W3', 'b3'):\n",
        "        \n",
        "        grads_squared[key] = np.zeros(network.params[key].shape)\n",
        "        \n",
        "    return grads_squared"
      ],
      "execution_count": 24,
      "outputs": []
    },
    {
      "cell_type": "code",
      "metadata": {
        "id": "tUm5qtfOio9q"
      },
      "source": [
        "network = TwoLayerNet(input_size=784, hidden_size=300, output_size=10)\n",
        "grads_squared = initialize_grads_squared(network)"
      ],
      "execution_count": 25,
      "outputs": []
    },
    {
      "cell_type": "code",
      "metadata": {
        "code_folding": [
          0
        ],
        "id": "TmKB6DsHio9q"
      },
      "source": [
        "def update_parameters_with_adagrad(network, grads, learning_rate=0.001, epsilon = 1e-7):\n",
        "    for key in ('W1', 'b1', 'W2', 'b2', 'W3', 'b3'):\n",
        "        ### START CODE HERE ### \n",
        "        \n",
        "        #计算历史梯度平方和\n",
        "        grads_squared[key] += grads[key]**2   \n",
        "        network.params[key] -= learning_rate*grads[key]/(np.sqrt(grads_squared[key])+epsilon)\n",
        "        ### END CODE HERE ###\n",
        "        \n",
        "    return "
      ],
      "execution_count": 26,
      "outputs": []
    },
    {
      "cell_type": "code",
      "metadata": {
        "colab": {
          "base_uri": "https://localhost:8080/"
        },
        "id": "0nVY6FUyio9r",
        "outputId": "441c3bc1-2445-410f-ca42-6b93c8ac3019"
      },
      "source": [
        "iters_num = 10000\n",
        "train_size = x_train.shape[0]\n",
        "batch_size = 100\n",
        "learning_rate = 0.001\n",
        "train_network(network, update_parameters_with_adagrad, iters_num, train_size, batch_size, learning_rate)"
      ],
      "execution_count": 27,
      "outputs": [
        {
          "output_type": "stream",
          "name": "stdout",
          "text": [
            "Train acc:0.227933\tTest acc:0.223100\n",
            "Train acc:0.863117\tTest acc:0.864500\n",
            "Train acc:0.881933\tTest acc:0.882900\n",
            "Train acc:0.891633\tTest acc:0.891900\n",
            "Train acc:0.896583\tTest acc:0.896700\n",
            "Train acc:0.900600\tTest acc:0.900800\n",
            "Train acc:0.903317\tTest acc:0.903600\n",
            "Train acc:0.906050\tTest acc:0.906800\n",
            "Train acc:0.907450\tTest acc:0.908900\n",
            "Train acc:0.910583\tTest acc:0.909300\n",
            "Train acc:0.912300\tTest acc:0.913000\n",
            "Train acc:0.914333\tTest acc:0.913100\n",
            "Train acc:0.914733\tTest acc:0.914100\n",
            "Train acc:0.916083\tTest acc:0.914200\n",
            "Train acc:0.918217\tTest acc:0.916600\n",
            "Train acc:0.918833\tTest acc:0.917100\n",
            "Train acc:0.919400\tTest acc:0.919100\n"
          ]
        }
      ]
    },
    {
      "cell_type": "markdown",
      "metadata": {
        "id": "FfJKDLRJio9r"
      },
      "source": [
        "#### 3.5.2 RMSprop  "
      ]
    },
    {
      "cell_type": "markdown",
      "metadata": {
        "id": "jUQnj5Xiio9r"
      },
      "source": [
        "从AdaGrad算法的公式可看出，所有时刻的梯度都对当前的参数更新有影响。如果早先的梯度并不是一个正确的方向，那么这些糟糕的梯度还是会影响到当前的参数更新。因此，RMSprop相当于就是只记录当前时刻前的某一段历史梯度和而不是所有历史梯度和。  \n",
        "RMSprop算法的公式如下：  \n",
        "$$\n",
        " u^0 = 0 \\\\\n",
        " u^{t+1} = \\rho u^t + (1-\\rho) [\\nabla J(\\theta ^t)]^2 \\\\ \n",
        " \\theta^{t+1} = \\theta^t - \\frac{\\alpha}{\\sqrt{u^{t+1}}+\\epsilon}\\nabla J(\\theta ^t) \n",
        "$$\n",
        "这里$\\rho$是超参数，一般设为0.999，也不会调它。$\\epsilon$是防止分母为0。另外值得注意的是，因为要整合这几个算法在一起，而Adam算法又融合了各种算法，所以，关于优化算法的超参数的命名与Adam里保持一致，公式里的$\\rho$用下面参数`beta`代替。这些算法几乎都要保存一些变量，它们的初始化基本与AdaGrad初始化的方法一致，所以这部分初始化的代码就不重复了。  "
      ]
    },
    {
      "cell_type": "code",
      "metadata": {
        "code_folding": [
          0
        ],
        "id": "f5aHTvzsio9r"
      },
      "source": [
        "def update_parameters_with_rmsprop(network, grads, learning_rate=0.001, epsilon = 1e-7, beta=0.999):\n",
        "    for key in ('W1', 'b1', 'W2', 'b2', 'W3', 'b3'):\n",
        "        ### START CODE HERE ### \n",
        "        \n",
        "        #公式里的u就是这里的 grads_squared         \n",
        "        grads_squared[key] = beta*grads_squared[key]+(1-beta)*(grads[key]**2)\n",
        "        network.params[key] -=  learning_rate*grads[key]/(np.sqrt(grads_squared[key])+epsilon)\n",
        "        \n",
        "        ### END CODE HERE ###\n",
        "    return "
      ],
      "execution_count": 28,
      "outputs": []
    },
    {
      "cell_type": "code",
      "metadata": {
        "id": "HOaoZMfPio9r"
      },
      "source": [
        "network = TwoLayerNet(input_size=784, hidden_size=300, output_size=10)\n",
        "grads_squared = initialize_grads_squared(network)"
      ],
      "execution_count": 29,
      "outputs": []
    },
    {
      "cell_type": "code",
      "metadata": {
        "colab": {
          "base_uri": "https://localhost:8080/"
        },
        "id": "9EjPFASbio9r",
        "outputId": "160d8f30-d5c5-4072-dd0c-1068de93774a"
      },
      "source": [
        "iters_num = 10000\n",
        "train_size = x_train.shape[0]\n",
        "batch_size = 100\n",
        "learning_rate = 0.001\n",
        "train_network(network, update_parameters_with_rmsprop, iters_num, train_size, batch_size, learning_rate)"
      ],
      "execution_count": 30,
      "outputs": [
        {
          "output_type": "stream",
          "name": "stdout",
          "text": [
            "Train acc:0.098633\tTest acc:0.095800\n",
            "Train acc:0.968333\tTest acc:0.963300\n",
            "Train acc:0.978600\tTest acc:0.970200\n",
            "Train acc:0.984600\tTest acc:0.973200\n",
            "Train acc:0.987267\tTest acc:0.974800\n",
            "Train acc:0.990567\tTest acc:0.977800\n",
            "Train acc:0.991267\tTest acc:0.976000\n",
            "Train acc:0.994117\tTest acc:0.979300\n",
            "Train acc:0.993517\tTest acc:0.977300\n",
            "Train acc:0.995100\tTest acc:0.976800\n",
            "Train acc:0.995517\tTest acc:0.977700\n",
            "Train acc:0.997583\tTest acc:0.979800\n",
            "Train acc:0.997067\tTest acc:0.976900\n",
            "Train acc:0.997733\tTest acc:0.977600\n",
            "Train acc:0.997633\tTest acc:0.977400\n",
            "Train acc:0.996183\tTest acc:0.975100\n",
            "Train acc:0.996417\tTest acc:0.975900\n"
          ]
        }
      ]
    },
    {
      "cell_type": "markdown",
      "metadata": {
        "id": "-1wmJGhYio9r"
      },
      "source": [
        "#### 5.3.3 Momentum"
      ]
    },
    {
      "cell_type": "markdown",
      "metadata": {
        "id": "8yXn7iDcio9r"
      },
      "source": [
        "动量梯度下降（Gradient Descent with Momentum）基本思想就是计算梯度的指数加权平均数，并利用该指数加权平均数更新权重。具体过程为：\n",
        "$$\n",
        "v^0 = 0 \\\\\n",
        "v^{t+1}  = \\rho v^t +\\alpha \\nabla J(\\theta ^t) \\\\\n",
        "\\theta^{t+1} = \\theta ^t - v^{t+1}\n",
        "$$\n",
        "\n",
        "这里的$\\rho$一般取0.9。 "
      ]
    },
    {
      "cell_type": "code",
      "metadata": {
        "code_folding": [
          0
        ],
        "id": "GuuF3p_qio9s"
      },
      "source": [
        "def initialize_velocity(network):\n",
        "    v = {}\n",
        "    for key in ('W1', 'b1', 'W2', 'b2', 'W3', 'b3'):\n",
        "        v[key] = np.zeros((network.params[key]).shape) \n",
        "    return v"
      ],
      "execution_count": 31,
      "outputs": []
    },
    {
      "cell_type": "code",
      "metadata": {
        "id": "-sp7dWs_io9s"
      },
      "source": [
        "network = TwoLayerNet(input_size=784, hidden_size=300, output_size=10)\n",
        "v = initialize_velocity(network)"
      ],
      "execution_count": 32,
      "outputs": []
    },
    {
      "cell_type": "code",
      "metadata": {
        "code_folding": [
          0
        ],
        "id": "c9HXmL-mio9s"
      },
      "source": [
        "def update_parameters_with_momentum(network, grads, learning_rate=0.001, beta=0.9):\n",
        "    for key in ('W1', 'b1', 'W2', 'b2', 'W3', 'b3'):\n",
        "        ### START CODE HERE ### \n",
        "        \n",
        "        #公式里的u就是这里的 grads_squared         \n",
        "        v[key] = beta*v[key]+learning_rate*grads[key]\n",
        "        network.params[key] -= v[key]\n",
        "        \n",
        "        ### END CODE HERE ###\n",
        "    return "
      ],
      "execution_count": 33,
      "outputs": []
    },
    {
      "cell_type": "code",
      "metadata": {
        "colab": {
          "base_uri": "https://localhost:8080/"
        },
        "id": "d_ZsFCNLio9s",
        "outputId": "817afd62-50db-4d18-d7ca-b2fd4dc78297"
      },
      "source": [
        "iters_num = 10000\n",
        "train_size = x_train.shape[0]\n",
        "batch_size = 100\n",
        "learning_rate = 0.001\n",
        "train_network(network, update_parameters_with_momentum, iters_num, train_size, batch_size, learning_rate)"
      ],
      "execution_count": 34,
      "outputs": [
        {
          "output_type": "stream",
          "name": "stdout",
          "text": [
            "Train acc:0.087333\tTest acc:0.086700\n",
            "Train acc:0.112367\tTest acc:0.113500\n",
            "Train acc:0.262567\tTest acc:0.265500\n",
            "Train acc:0.388550\tTest acc:0.400500\n",
            "Train acc:0.688550\tTest acc:0.699800\n",
            "Train acc:0.783200\tTest acc:0.790000\n",
            "Train acc:0.823617\tTest acc:0.830000\n",
            "Train acc:0.848867\tTest acc:0.852900\n",
            "Train acc:0.867650\tTest acc:0.870500\n",
            "Train acc:0.880717\tTest acc:0.884000\n",
            "Train acc:0.889933\tTest acc:0.889700\n",
            "Train acc:0.896033\tTest acc:0.894500\n",
            "Train acc:0.900233\tTest acc:0.899000\n",
            "Train acc:0.905300\tTest acc:0.902500\n",
            "Train acc:0.909533\tTest acc:0.906300\n",
            "Train acc:0.912867\tTest acc:0.910400\n",
            "Train acc:0.915367\tTest acc:0.913600\n"
          ]
        }
      ]
    },
    {
      "cell_type": "markdown",
      "metadata": {
        "id": "Uzaj_TX1io9s"
      },
      "source": [
        "#### 3.5.4 Nesterov Momentum  "
      ]
    },
    {
      "cell_type": "markdown",
      "metadata": {
        "id": "NwikmwDVio9s"
      },
      "source": [
        "Nesterov Momentum算法与Momentum不同的是在于，它会提前计算一个在速度作用后的梯度。具体算法如下：\n",
        "$$\n",
        "v^{t+1} = \\rho v^t + \\alpha \\nabla J(\\theta ^t - \\rho v^t) \\\\\n",
        "\\theta^{t+1} = \\theta ^t - v^{t+1}\n",
        "$$\n",
        "但是在实现的时候，我们是不会算一次$J(\\theta ^t)$再算一次$\\nabla J(\\theta ^t - \\rho v^t)$的。具体编程实现时上式等价于下式：\n",
        "$$\n",
        " v^{t+1} = \\rho v^t + \\alpha \\nabla J(\\theta ^t) \\\\\n",
        " \\theta^{t+1} = \\theta ^t - \\rho v^{t+1} - \\alpha \\nabla J(\\theta ^t)\n",
        "$$\n",
        "这里的$\\rho$一般取0.9。  "
      ]
    },
    {
      "cell_type": "code",
      "metadata": {
        "id": "wRMHUS1mio9s"
      },
      "source": [
        "def update_parameters_with_nesterov_momentum(network, grads, learning_rate=0.001, beta=0.9):\n",
        "    for key in ('W1', 'b1', 'W2', 'b2', 'W3', 'b3'):\n",
        "        ### START CODE HERE ### \n",
        "                \n",
        "        v[key] = beta*v[key]+learning_rate*grads[key]\n",
        "        network.params[key] -= (beta*v[key]+learning_rate*grads[key])\n",
        "        \n",
        "        ### END CODE HERE ###\n",
        "    return "
      ],
      "execution_count": 35,
      "outputs": []
    },
    {
      "cell_type": "code",
      "metadata": {
        "id": "zurdCt9Rio9t"
      },
      "source": [
        "network = TwoLayerNet(input_size=784, hidden_size=300, output_size=10)\n",
        "v = initialize_velocity(network)"
      ],
      "execution_count": 36,
      "outputs": []
    },
    {
      "cell_type": "code",
      "metadata": {
        "colab": {
          "base_uri": "https://localhost:8080/"
        },
        "id": "muio5gcgio9t",
        "outputId": "9080cba1-4ed6-4fad-c0aa-3a4fe65354d0"
      },
      "source": [
        "iters_num = 10000\n",
        "train_size = x_train.shape[0]\n",
        "batch_size = 100\n",
        "learning_rate = 0.001\n",
        "train_network(network, update_parameters_with_nesterov_momentum, iters_num, train_size, batch_size, learning_rate)"
      ],
      "execution_count": 37,
      "outputs": [
        {
          "output_type": "stream",
          "name": "stdout",
          "text": [
            "Train acc:0.087283\tTest acc:0.086500\n",
            "Train acc:0.112367\tTest acc:0.113500\n",
            "Train acc:0.264100\tTest acc:0.268100\n",
            "Train acc:0.393133\tTest acc:0.404900\n",
            "Train acc:0.689750\tTest acc:0.701400\n",
            "Train acc:0.783483\tTest acc:0.790400\n",
            "Train acc:0.823683\tTest acc:0.829800\n",
            "Train acc:0.849533\tTest acc:0.854100\n",
            "Train acc:0.867767\tTest acc:0.870600\n",
            "Train acc:0.880817\tTest acc:0.883900\n",
            "Train acc:0.889867\tTest acc:0.890000\n",
            "Train acc:0.896067\tTest acc:0.894900\n",
            "Train acc:0.900117\tTest acc:0.899000\n",
            "Train acc:0.905283\tTest acc:0.902500\n",
            "Train acc:0.909533\tTest acc:0.906200\n",
            "Train acc:0.913017\tTest acc:0.910300\n",
            "Train acc:0.915450\tTest acc:0.914000\n"
          ]
        }
      ]
    },
    {
      "cell_type": "markdown",
      "metadata": {
        "id": "bJStGdoYio9t"
      },
      "source": [
        "#### 3.5.5 Adam"
      ]
    },
    {
      "cell_type": "markdown",
      "metadata": {
        "id": "YpMRLgHrio9t"
      },
      "source": [
        "Adam优化算法（Adaptive Moment Estimation）是将Momentum和RMSprop结合在一起的算法，具体过程如下\n",
        "$$\n",
        "u^0 = 0 \\\\\n",
        "v^0 = 0 \\\\\n",
        "u^{t+1}  = \\rho_2 u^t +(1-\\rho_2) [\\nabla J(\\theta ^t)]^2 \\\\\n",
        "v^{t+1}  = \\rho_1 v^t + (1-\\rho_1)\\nabla J(\\theta ^t) \\\\\n",
        "\\theta^{t+1} = \\theta ^t - \\frac{\\alpha}{\\sqrt{u^{t+1}}+\\epsilon}v^{t+1}\n",
        "$$\n",
        "从上式可以看到，在最开始更新时，$u^{t},v^{t}$都是很小的。所以需要对早期的更新进行一个bias correction。完整公式如下\n",
        "$$\n",
        "u^0 = 0 \\\\\n",
        "v^0 = 0 \\\\\n",
        "u^{t+1}  = \\rho_2 u^t +(1-\\rho_2) [\\nabla J(\\theta ^t)]^2 \\\\\n",
        "u^{t+1}_{corrected} = \\frac{u^{t+1}}{1-\\rho_2^t} \\\\\n",
        "v^{t+1}  = \\rho_1 v^t + (1-\\rho_1)\\nabla J(\\theta ^t) \\\\\n",
        "v^{t+1}_{corrected} = \\frac{v^{t+1}}{1-\\rho_1^t} \\\\\n",
        "\\theta^{t+1} = \\theta ^t - \\frac{\\alpha}{\\sqrt{u^{t+1}_{corrected}}+\\epsilon}v^{t+1}_{corrected}\n",
        "$$\n",
        "\n",
        "其中，一般设$\\rho_1=0.9,\\rho_2=0.999$.$\\epsilon$也是防止分母过小或等于0.  "
      ]
    },
    {
      "cell_type": "code",
      "metadata": {
        "code_folding": [
          0
        ],
        "id": "bsCaQ3_oio9t"
      },
      "source": [
        "def initialize_adam(network) :\n",
        "    v = {}\n",
        "    u = {}\n",
        "\n",
        "    for key in ('W1', 'b1', 'W2', 'b2', 'W3', 'b3'):\n",
        "        v[key] = np.zeros(np.shape(network.params[key]))\n",
        "        u[key] = np.zeros(np.shape(network.params[key]))\n",
        "            \n",
        "    return v, u"
      ],
      "execution_count": 38,
      "outputs": []
    },
    {
      "cell_type": "code",
      "metadata": {
        "id": "3VXmZRCIio9t"
      },
      "source": [
        "network = TwoLayerNet(input_size=784, hidden_size=300, output_size=10)\n",
        "v, u = initialize_adam(network)"
      ],
      "execution_count": 39,
      "outputs": []
    },
    {
      "cell_type": "code",
      "metadata": {
        "code_folding": [
          0
        ],
        "id": "wARkDe7nio9t"
      },
      "source": [
        "def update_parameters_with_adam(network, grads, learning_rate=0.001, epsilon=1e-7, beta1=0.9, beta2=0.999):\n",
        "    v_corrected = {}\n",
        "    u_corrected = {} \n",
        "    t = network.t #当前迭代次数\n",
        "    for key in ('W1', 'b1', 'W2', 'b2', 'W3', 'b3'):\n",
        "        ### START CODE HERE ### \n",
        "                \n",
        "        v[key] = beta1*v[key]+(1-beta1)*grads[key]\n",
        "        v_corrected[key] = v[key]/(1-beta1**t)\n",
        "        \n",
        "        u[key] = beta2*u[key]+(1-beta2)*(grads[key]**2)\n",
        "        u_corrected[key] = u[key]/(1-beta2**t)\n",
        "        \n",
        "        network.params[key] -= learning_rate/(np.sqrt(u_corrected[key])+epsilon)*v_corrected[key]\n",
        "        \n",
        "        ### END CODE HERE ###\n",
        "    return "
      ],
      "execution_count": 40,
      "outputs": []
    },
    {
      "cell_type": "code",
      "metadata": {
        "colab": {
          "base_uri": "https://localhost:8080/"
        },
        "id": "-FZenQg0io9t",
        "outputId": "9e0ecac0-b829-4bff-cce8-d8064b6b12ed"
      },
      "source": [
        "iters_num = 10000\n",
        "train_size = x_train.shape[0]\n",
        "batch_size = 100\n",
        "learning_rate = 0.001\n",
        "train_network(network, update_parameters_with_adam, iters_num, train_size, batch_size, learning_rate)"
      ],
      "execution_count": 41,
      "outputs": [
        {
          "output_type": "stream",
          "name": "stdout",
          "text": [
            "Train acc:0.227933\tTest acc:0.223100\n",
            "Train acc:0.958100\tTest acc:0.954900\n",
            "Train acc:0.972467\tTest acc:0.968100\n",
            "Train acc:0.979800\tTest acc:0.970700\n",
            "Train acc:0.985467\tTest acc:0.975100\n",
            "Train acc:0.989367\tTest acc:0.976000\n",
            "Train acc:0.989550\tTest acc:0.975300\n",
            "Train acc:0.991617\tTest acc:0.980000\n",
            "Train acc:0.992467\tTest acc:0.978400\n",
            "Train acc:0.993617\tTest acc:0.976200\n",
            "Train acc:0.995150\tTest acc:0.981300\n",
            "Train acc:0.994583\tTest acc:0.978900\n",
            "Train acc:0.995817\tTest acc:0.980100\n",
            "Train acc:0.997450\tTest acc:0.980500\n",
            "Train acc:0.997167\tTest acc:0.980600\n",
            "Train acc:0.997433\tTest acc:0.981000\n",
            "Train acc:0.997600\tTest acc:0.982100\n"
          ]
        }
      ]
    },
    {
      "cell_type": "markdown",
      "metadata": {
        "id": "wHAJrj03io9t"
      },
      "source": [
        "## 4. 总结\n",
        "本次实验完整搭建了一个三层的全连接网络，使用了各种梯度更新优化算法训练MNIST数据集。  \n",
        "提交作业后，可以试试再把准确度提高一点？"
      ]
    }
  ]
}